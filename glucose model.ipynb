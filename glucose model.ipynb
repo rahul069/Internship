{
 "cells": [
  {
   "cell_type": "code",
   "execution_count": 1,
   "metadata": {},
   "outputs": [],
   "source": [
    "import pandas as pd\n",
    "import matplotlib.pyplot as plt"
   ]
  },
  {
   "cell_type": "code",
   "execution_count": 2,
   "metadata": {},
   "outputs": [],
   "source": [
    "data = pd.read_csv(\"edataset.csv\")"
   ]
  },
  {
   "cell_type": "code",
   "execution_count": 3,
   "metadata": {},
   "outputs": [],
   "source": [
    "X = data[data.columns[29:34]]\n",
    "Y = data[data.columns[34:35]]"
   ]
  },
  {
   "cell_type": "code",
   "execution_count": 4,
   "metadata": {},
   "outputs": [
    {
     "data": {
      "text/html": [
       "<div>\n",
       "<style scoped>\n",
       "    .dataframe tbody tr th:only-of-type {\n",
       "        vertical-align: middle;\n",
       "    }\n",
       "\n",
       "    .dataframe tbody tr th {\n",
       "        vertical-align: top;\n",
       "    }\n",
       "\n",
       "    .dataframe thead th {\n",
       "        text-align: right;\n",
       "    }\n",
       "</style>\n",
       "<table border=\"1\" class=\"dataframe\">\n",
       "  <thead>\n",
       "    <tr style=\"text-align: right;\">\n",
       "      <th></th>\n",
       "      <th>gul-time1</th>\n",
       "      <th>gul-time2</th>\n",
       "      <th>gul-time3</th>\n",
       "      <th>gul-time4</th>\n",
       "      <th>gul-time5</th>\n",
       "    </tr>\n",
       "  </thead>\n",
       "  <tbody>\n",
       "    <tr>\n",
       "      <th>0</th>\n",
       "      <td>9.614339</td>\n",
       "      <td>13.736151</td>\n",
       "      <td>15.298979</td>\n",
       "      <td>16.675958</td>\n",
       "      <td>14.016205</td>\n",
       "    </tr>\n",
       "    <tr>\n",
       "      <th>1</th>\n",
       "      <td>7.144207</td>\n",
       "      <td>2.976482</td>\n",
       "      <td>6.868563</td>\n",
       "      <td>6.390378</td>\n",
       "      <td>9.661854</td>\n",
       "    </tr>\n",
       "    <tr>\n",
       "      <th>2</th>\n",
       "      <td>8.476365</td>\n",
       "      <td>10.120786</td>\n",
       "      <td>12.300387</td>\n",
       "      <td>12.871604</td>\n",
       "      <td>11.639016</td>\n",
       "    </tr>\n",
       "    <tr>\n",
       "      <th>3</th>\n",
       "      <td>7.651433</td>\n",
       "      <td>3.974643</td>\n",
       "      <td>5.427785</td>\n",
       "      <td>3.565236</td>\n",
       "      <td>5.758189</td>\n",
       "    </tr>\n",
       "    <tr>\n",
       "      <th>4</th>\n",
       "      <td>7.568780</td>\n",
       "      <td>10.142538</td>\n",
       "      <td>11.302428</td>\n",
       "      <td>12.507651</td>\n",
       "      <td>11.544692</td>\n",
       "    </tr>\n",
       "  </tbody>\n",
       "</table>\n",
       "</div>"
      ],
      "text/plain": [
       "   gul-time1  gul-time2  gul-time3  gul-time4  gul-time5\n",
       "0   9.614339  13.736151  15.298979  16.675958  14.016205\n",
       "1   7.144207   2.976482   6.868563   6.390378   9.661854\n",
       "2   8.476365  10.120786  12.300387  12.871604  11.639016\n",
       "3   7.651433   3.974643   5.427785   3.565236   5.758189\n",
       "4   7.568780  10.142538  11.302428  12.507651  11.544692"
      ]
     },
     "execution_count": 4,
     "metadata": {},
     "output_type": "execute_result"
    }
   ],
   "source": [
    "X.head()"
   ]
  },
  {
   "cell_type": "code",
   "execution_count": 5,
   "metadata": {},
   "outputs": [],
   "source": [
    "#from sklearn.preprocessing import StandardScaler\n",
    "#scale = StandardScaler()\n",
    "#X = scale.fit_transform(X)\n",
    "#X = pd.DataFrame(X)///"
   ]
  },
  {
   "cell_type": "code",
   "execution_count": 7,
   "metadata": {},
   "outputs": [],
   "source": [
    "from sklearn.model_selection import train_test_split"
   ]
  },
  {
   "cell_type": "code",
   "execution_count": 75,
   "metadata": {},
   "outputs": [],
   "source": [
    "X_train, X_test, y_train, y_test = train_test_split(X, Y, test_size=0.30, random_state=42)"
   ]
  },
  {
   "cell_type": "code",
   "execution_count": 76,
   "metadata": {},
   "outputs": [
    {
     "data": {
      "text/plain": [
       "((28, 5), (12, 5), (28, 1), (12, 1))"
      ]
     },
     "execution_count": 76,
     "metadata": {},
     "output_type": "execute_result"
    }
   ],
   "source": [
    "X_train.shape, X_test.shape, y_train.shape, y_test.shape"
   ]
  },
  {
   "cell_type": "code",
   "execution_count": 77,
   "metadata": {},
   "outputs": [],
   "source": [
    "from sklearn.neighbors import KNeighborsRegressor\n",
    "from sklearn.linear_model import LinearRegression\n",
    "from sklearn.gaussian_process import GaussianProcessRegressor"
   ]
  },
  {
   "cell_type": "code",
   "execution_count": 78,
   "metadata": {},
   "outputs": [],
   "source": [
    "# load the dataset, returns train and test X and y elements\n",
    "def load_dataset(prefix=''):\n",
    "\t# load all train\n",
    "\tX_train, y_train\n",
    "\tprint(X_train.shape, y_train.shape)\n",
    "\t# load all test\n",
    "\tX_test, y_test\n",
    "\tprint(X_test.shape, y_test.shape)\n",
    "\t# flatten y\n",
    "\ty_train, y_test\n",
    "\tprint(X_train.shape, y_train.shape, X_test.shape, y_test.shape)\n",
    "\treturn X_train, y_train, X_test, y_test"
   ]
  },
  {
   "cell_type": "code",
   "execution_count": 79,
   "metadata": {},
   "outputs": [],
   "source": [
    "def define_models(models=dict()):\n",
    "    models['knn'] =KNeighborsRegressor()\n",
    "    models['linReg'] = LinearRegression()\n",
    "    models['gpr'] = GaussianProcessRegressor()\n",
    "    print('Defined %d models' % len(models))\n",
    "    return models"
   ]
  },
  {
   "cell_type": "code",
   "execution_count": 80,
   "metadata": {},
   "outputs": [],
   "source": [
    "def evaluate_model(X_train, y_train, X_test, y_test, model):\n",
    "\t# fit the model\n",
    "\tmodel.fit(X_train,y_train)\n",
    "\t# make predictions\n",
    "\typred = model.predict(X_test)\n",
    "\t# evaluate predictions\n",
    "\tscore = model.score(X_train,y_train)\n",
    "\treturn score * 100.0"
   ]
  },
  {
   "cell_type": "code",
   "execution_count": 81,
   "metadata": {},
   "outputs": [],
   "source": [
    "# evaluate a dict of models {name:object}, returns {name:score}\n",
    "def evaluate_models(X_train, y_train, X_test, y_test, models):\n",
    "\tresults = dict()\n",
    "\tfor name, model in models.items():\n",
    "\t\t# evaluate the model\n",
    "\t\tresults[name] = evaluate_model(X_train, y_train, X_test, y_test, model)\n",
    "\t\t# show process\n",
    "\t\tprint('>%s: %.3f' % (name, results[name]))\n",
    "\treturn results"
   ]
  },
  {
   "cell_type": "code",
   "execution_count": 82,
   "metadata": {},
   "outputs": [],
   "source": [
    "# print and plot the results\n",
    "def summarize_results(results, maximize=True):\n",
    "\t# create a list of (name, mean(scores)) tuples\n",
    "\tmean_scores = [(k,v) for k,v in results.items()]\n",
    "\t# sort tuples by mean score\n",
    "\tmean_scores = sorted(mean_scores, key=lambda x: x[1])\n",
    "\t# reverse for descending order (e.g. for accuracy)\n",
    "\tif maximize:\n",
    "\t\tmean_scores = list(reversed(mean_scores))\n",
    "\tprint()\n",
    "\tfor name, score in mean_scores:\n",
    "\t\tprint('Name=%s, Score=%.3f' % (name, score))"
   ]
  },
  {
   "cell_type": "code",
   "execution_count": 83,
   "metadata": {},
   "outputs": [
    {
     "name": "stdout",
     "output_type": "stream",
     "text": [
      "(28, 5) (28, 1)\n",
      "(12, 5) (12, 1)\n",
      "(28, 5) (28, 1) (12, 5) (12, 1)\n",
      "Defined 3 models\n",
      ">knn: 36.807\n",
      ">linReg: 52.911\n",
      ">gpr: 100.000\n",
      "\n",
      "Name=gpr, Score=100.000\n",
      "Name=linReg, Score=52.911\n",
      "Name=knn, Score=36.807\n"
     ]
    }
   ],
   "source": [
    "# load dataset\n",
    "X_train, y_train, X_test, y_test = load_dataset()\n",
    "# get model list\n",
    "models = define_models()\n",
    "# evaluate models\n",
    "results = evaluate_models(X_train, y_train, X_test, y_test, models)\n",
    "# summarize results\n",
    "summarize_results(results)"
   ]
  },
  {
   "cell_type": "code",
   "execution_count": 84,
   "metadata": {},
   "outputs": [
    {
     "data": {
      "text/plain": [
       "PolynomialFeatures()"
      ]
     },
     "execution_count": 84,
     "metadata": {},
     "output_type": "execute_result"
    }
   ],
   "source": [
    "# using polynomial regression with degree=2\n",
    "from sklearn.preprocessing import PolynomialFeatures\n",
    "polynom =PolynomialFeatures(degree=2)\n",
    "x_poly =polynom.fit_transform(X_train)\n",
    "polynom.fit(X_train,y_train)"
   ]
  },
  {
   "cell_type": "code",
   "execution_count": 85,
   "metadata": {},
   "outputs": [
    {
     "data": {
      "text/plain": [
       "LinearRegression()"
      ]
     },
     "execution_count": 85,
     "metadata": {},
     "output_type": "execute_result"
    }
   ],
   "source": [
    "#using linearRegression for model\n",
    "from sklearn.linear_model import LinearRegression\n",
    "mod = LinearRegression()\n",
    "mod.fit(x_poly,y_train)"
   ]
  },
  {
   "cell_type": "code",
   "execution_count": 86,
   "metadata": {},
   "outputs": [
    {
     "data": {
      "text/plain": [
       "array([[ 6.93886858],\n",
       "       [16.12246823],\n",
       "       [ 6.35909196],\n",
       "       [16.16209344],\n",
       "       [11.81509082],\n",
       "       [ 6.21287379],\n",
       "       [20.39202403],\n",
       "       [ 8.46721778],\n",
       "       [ 7.3976674 ],\n",
       "       [ 5.29779107],\n",
       "       [13.99879373],\n",
       "       [ 9.84429337]])"
      ]
     },
     "execution_count": 86,
     "metadata": {},
     "output_type": "execute_result"
    }
   ],
   "source": [
    "#prediction of Polynomial Regression\n",
    "mod.predict(polynom.fit_transform(X_test))"
   ]
  },
  {
   "cell_type": "code",
   "execution_count": 87,
   "metadata": {},
   "outputs": [
    {
     "data": {
      "text/plain": [
       "84.51967957500895"
      ]
     },
     "execution_count": 87,
     "metadata": {},
     "output_type": "execute_result"
    }
   ],
   "source": [
    "score = mod.score(x_poly,y_train)\n",
    "score*100"
   ]
  },
  {
   "cell_type": "code",
   "execution_count": 88,
   "metadata": {},
   "outputs": [
    {
     "data": {
      "text/plain": [
       "array([[ 6.6125583 ],\n",
       "       [ 7.93011939],\n",
       "       [10.86448026],\n",
       "       [10.46374198],\n",
       "       [11.58059138],\n",
       "       [ 7.07271442],\n",
       "       [12.51220716],\n",
       "       [ 6.91615178],\n",
       "       [ 7.90946718],\n",
       "       [ 6.82600072],\n",
       "       [14.91396827],\n",
       "       [11.76357708]])"
      ]
     },
     "execution_count": 88,
     "metadata": {},
     "output_type": "execute_result"
    }
   ],
   "source": [
    "#linear Regression Prediction\n",
    "mod.fit(X_train,y_train)\n",
    "mod.predict(X_test)"
   ]
  },
  {
   "cell_type": "code",
   "execution_count": 89,
   "metadata": {},
   "outputs": [
    {
     "data": {
      "text/plain": [
       "52.91088770001765"
      ]
     },
     "execution_count": 89,
     "metadata": {},
     "output_type": "execute_result"
    }
   ],
   "source": [
    "mod.score(X_train,y_train)*100"
   ]
  },
  {
   "cell_type": "code",
   "execution_count": 90,
   "metadata": {},
   "outputs": [
    {
     "data": {
      "text/plain": [
       "array([[ 9.77398558],\n",
       "       [ 9.29228398],\n",
       "       [12.18622418],\n",
       "       [11.81421353],\n",
       "       [12.48388735],\n",
       "       [ 9.47113128],\n",
       "       [11.75088918],\n",
       "       [ 9.92321937],\n",
       "       [ 9.47113128],\n",
       "       [ 9.47113128],\n",
       "       [11.86493794],\n",
       "       [ 8.93359539]])"
      ]
     },
     "execution_count": 90,
     "metadata": {},
     "output_type": "execute_result"
    }
   ],
   "source": [
    "from sklearn.neighbors import KNeighborsRegressor\n",
    "knn = KNeighborsRegressor()\n",
    "knn.fit(X_train,y_train)\n",
    "knn.predict(X_test)"
   ]
  },
  {
   "cell_type": "code",
   "execution_count": 91,
   "metadata": {},
   "outputs": [
    {
     "data": {
      "text/html": [
       "<div>\n",
       "<style scoped>\n",
       "    .dataframe tbody tr th:only-of-type {\n",
       "        vertical-align: middle;\n",
       "    }\n",
       "\n",
       "    .dataframe tbody tr th {\n",
       "        vertical-align: top;\n",
       "    }\n",
       "\n",
       "    .dataframe thead th {\n",
       "        text-align: right;\n",
       "    }\n",
       "</style>\n",
       "<table border=\"1\" class=\"dataframe\">\n",
       "  <thead>\n",
       "    <tr style=\"text-align: right;\">\n",
       "      <th></th>\n",
       "      <th>gu-ltime6</th>\n",
       "    </tr>\n",
       "  </thead>\n",
       "  <tbody>\n",
       "    <tr>\n",
       "      <th>19</th>\n",
       "      <td>8.234893</td>\n",
       "    </tr>\n",
       "    <tr>\n",
       "      <th>16</th>\n",
       "      <td>12.945406</td>\n",
       "    </tr>\n",
       "    <tr>\n",
       "      <th>15</th>\n",
       "      <td>13.847258</td>\n",
       "    </tr>\n",
       "    <tr>\n",
       "      <th>26</th>\n",
       "      <td>10.751229</td>\n",
       "    </tr>\n",
       "    <tr>\n",
       "      <th>4</th>\n",
       "      <td>12.512266</td>\n",
       "    </tr>\n",
       "    <tr>\n",
       "      <th>12</th>\n",
       "      <td>6.511811</td>\n",
       "    </tr>\n",
       "    <tr>\n",
       "      <th>37</th>\n",
       "      <td>13.224299</td>\n",
       "    </tr>\n",
       "    <tr>\n",
       "      <th>27</th>\n",
       "      <td>2.801161</td>\n",
       "    </tr>\n",
       "    <tr>\n",
       "      <th>39</th>\n",
       "      <td>8.366897</td>\n",
       "    </tr>\n",
       "    <tr>\n",
       "      <th>6</th>\n",
       "      <td>3.475602</td>\n",
       "    </tr>\n",
       "    <tr>\n",
       "      <th>25</th>\n",
       "      <td>12.642681</td>\n",
       "    </tr>\n",
       "    <tr>\n",
       "      <th>9</th>\n",
       "      <td>12.685457</td>\n",
       "    </tr>\n",
       "  </tbody>\n",
       "</table>\n",
       "</div>"
      ],
      "text/plain": [
       "    gu-ltime6\n",
       "19   8.234893\n",
       "16  12.945406\n",
       "15  13.847258\n",
       "26  10.751229\n",
       "4   12.512266\n",
       "12   6.511811\n",
       "37  13.224299\n",
       "27   2.801161\n",
       "39   8.366897\n",
       "6    3.475602\n",
       "25  12.642681\n",
       "9   12.685457"
      ]
     },
     "execution_count": 91,
     "metadata": {},
     "output_type": "execute_result"
    }
   ],
   "source": [
    "y_test"
   ]
  },
  {
   "cell_type": "code",
   "execution_count": null,
   "metadata": {},
   "outputs": [],
   "source": []
  },
  {
   "cell_type": "code",
   "execution_count": null,
   "metadata": {},
   "outputs": [],
   "source": []
  }
 ],
 "metadata": {
  "kernelspec": {
   "display_name": "Python 3",
   "language": "python",
   "name": "python3"
  },
  "language_info": {
   "codemirror_mode": {
    "name": "ipython",
    "version": 3
   },
   "file_extension": ".py",
   "mimetype": "text/x-python",
   "name": "python",
   "nbconvert_exporter": "python",
   "pygments_lexer": "ipython3",
   "version": "3.8.0"
  }
 },
 "nbformat": 4,
 "nbformat_minor": 4
}
